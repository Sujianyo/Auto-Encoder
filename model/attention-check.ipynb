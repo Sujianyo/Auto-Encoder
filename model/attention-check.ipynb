{
 "cells": [
  {
   "cell_type": "code",
   "execution_count": null,
   "metadata": {},
   "outputs": [],
   "source": [
    "import torch"
   ]
  },
  {
   "cell_type": "code",
   "execution_count": null,
   "metadata": {},
   "outputs": [],
   "source": [
    "import torch.nn as nn"
   ]
  },
  {
   "cell_type": "code",
   "execution_count": null,
   "metadata": {},
   "outputs": [],
   "source": [
    "m = nn.Linear(10, 11, bias=False)"
   ]
  },
  {
   "cell_type": "code",
   "execution_count": null,
   "metadata": {},
   "outputs": [
    {
     "ename": "AttributeError",
     "evalue": "'Linear' object has no attribute 'wei'",
     "output_type": "error",
     "traceback": [
      "\u001b[0;31m---------------------------------------------------------------------------\u001b[0m",
      "\u001b[0;31mAttributeError\u001b[0m                            Traceback (most recent call last)",
      "Cell \u001b[0;32mIn[6], line 1\u001b[0m\n\u001b[0;32m----> 1\u001b[0m m\u001b[39m.\u001b[39;49mwei\n",
      "File \u001b[0;32m~/miniconda3/envs/unet/lib/python3.10/site-packages/torch/nn/modules/module.py:1928\u001b[0m, in \u001b[0;36mModule.__getattr__\u001b[0;34m(self, name)\u001b[0m\n\u001b[1;32m   1926\u001b[0m     \u001b[39mif\u001b[39;00m name \u001b[39min\u001b[39;00m modules:\n\u001b[1;32m   1927\u001b[0m         \u001b[39mreturn\u001b[39;00m modules[name]\n\u001b[0;32m-> 1928\u001b[0m \u001b[39mraise\u001b[39;00m \u001b[39mAttributeError\u001b[39;00m(\n\u001b[1;32m   1929\u001b[0m     \u001b[39mf\u001b[39m\u001b[39m\"\u001b[39m\u001b[39m'\u001b[39m\u001b[39m{\u001b[39;00m\u001b[39mtype\u001b[39m(\u001b[39mself\u001b[39m)\u001b[39m.\u001b[39m\u001b[39m__name__\u001b[39m\u001b[39m}\u001b[39;00m\u001b[39m'\u001b[39m\u001b[39m object has no attribute \u001b[39m\u001b[39m'\u001b[39m\u001b[39m{\u001b[39;00mname\u001b[39m}\u001b[39;00m\u001b[39m'\u001b[39m\u001b[39m\"\u001b[39m\n\u001b[1;32m   1930\u001b[0m )\n",
      "\u001b[0;31mAttributeError\u001b[0m: 'Linear' object has no attribute 'wei'"
     ]
    }
   ],
   "source": [
    "m.wei"
   ]
  },
  {
   "cell_type": "code",
   "execution_count": null,
   "metadata": {},
   "outputs": [
    {
     "ename": "AttributeError",
     "evalue": "'Linear' object has no attribute 'w'",
     "output_type": "error",
     "traceback": [
      "\u001b[0;31m---------------------------------------------------------------------------\u001b[0m",
      "\u001b[0;31mAttributeError\u001b[0m                            Traceback (most recent call last)",
      "Cell \u001b[0;32mIn[7], line 1\u001b[0m\n\u001b[0;32m----> 1\u001b[0m m\u001b[39m.\u001b[39;49mw\n",
      "File \u001b[0;32m~/miniconda3/envs/unet/lib/python3.10/site-packages/torch/nn/modules/module.py:1928\u001b[0m, in \u001b[0;36mModule.__getattr__\u001b[0;34m(self, name)\u001b[0m\n\u001b[1;32m   1926\u001b[0m     \u001b[39mif\u001b[39;00m name \u001b[39min\u001b[39;00m modules:\n\u001b[1;32m   1927\u001b[0m         \u001b[39mreturn\u001b[39;00m modules[name]\n\u001b[0;32m-> 1928\u001b[0m \u001b[39mraise\u001b[39;00m \u001b[39mAttributeError\u001b[39;00m(\n\u001b[1;32m   1929\u001b[0m     \u001b[39mf\u001b[39m\u001b[39m\"\u001b[39m\u001b[39m'\u001b[39m\u001b[39m{\u001b[39;00m\u001b[39mtype\u001b[39m(\u001b[39mself\u001b[39m)\u001b[39m.\u001b[39m\u001b[39m__name__\u001b[39m\u001b[39m}\u001b[39;00m\u001b[39m'\u001b[39m\u001b[39m object has no attribute \u001b[39m\u001b[39m'\u001b[39m\u001b[39m{\u001b[39;00mname\u001b[39m}\u001b[39;00m\u001b[39m'\u001b[39m\u001b[39m\"\u001b[39m\n\u001b[1;32m   1930\u001b[0m )\n",
      "\u001b[0;31mAttributeError\u001b[0m: 'Linear' object has no attribute 'w'"
     ]
    }
   ],
   "source": [
    "m.w"
   ]
  },
  {
   "cell_type": "code",
   "execution_count": null,
   "metadata": {},
   "outputs": [
    {
     "data": {
      "text/plain": [
       "Parameter containing:\n",
       "tensor([[-0.2068, -0.2729, -0.2093, -0.3085,  0.2986,  0.0606, -0.3037, -0.2664,\n",
       "         -0.0694, -0.3155],\n",
       "        [-0.2376, -0.0515, -0.0405, -0.1154,  0.3017,  0.1733,  0.3135, -0.0158,\n",
       "         -0.2596, -0.2749],\n",
       "        [-0.0894,  0.2226,  0.0732,  0.1698, -0.2930,  0.1339,  0.2370, -0.0492,\n",
       "          0.1766,  0.2702],\n",
       "        [-0.1604,  0.2836, -0.2424,  0.3041, -0.2746,  0.2549,  0.0266,  0.2767,\n",
       "          0.0822, -0.2406],\n",
       "        [ 0.2956, -0.2475,  0.1396, -0.1130, -0.0817, -0.1695, -0.1524,  0.0208,\n",
       "         -0.1506, -0.0416],\n",
       "        [-0.1293,  0.0313, -0.1709, -0.1139,  0.2710,  0.2876, -0.2732, -0.0056,\n",
       "          0.2838,  0.1116],\n",
       "        [ 0.0426,  0.1459, -0.3114,  0.1077, -0.2822, -0.1166,  0.2798, -0.2950,\n",
       "         -0.2923,  0.1147],\n",
       "        [-0.1635,  0.1874, -0.0391, -0.0171, -0.2804,  0.2543, -0.1674, -0.0376,\n",
       "         -0.0016,  0.1055],\n",
       "        [ 0.2968,  0.1718,  0.0401, -0.0697, -0.1094, -0.2285, -0.0623, -0.2195,\n",
       "         -0.0492,  0.1477],\n",
       "        [-0.1153,  0.2184,  0.2008, -0.1696,  0.0198,  0.0637,  0.0969, -0.0353,\n",
       "         -0.0188,  0.1805],\n",
       "        [ 0.1189, -0.0733, -0.0718, -0.2407, -0.0590, -0.3057, -0.0656, -0.0425,\n",
       "         -0.1412, -0.2561]], requires_grad=True)"
      ]
     },
     "execution_count": 8,
     "metadata": {},
     "output_type": "execute_result"
    }
   ],
   "source": [
    "m.weight"
   ]
  },
  {
   "cell_type": "code",
   "execution_count": null,
   "metadata": {},
   "outputs": [
    {
     "ename": "AttributeError",
     "evalue": "'Linear' object has no attribute 'to_q'",
     "output_type": "error",
     "traceback": [
      "\u001b[0;31m---------------------------------------------------------------------------\u001b[0m",
      "\u001b[0;31mAttributeError\u001b[0m                            Traceback (most recent call last)",
      "Cell \u001b[0;32mIn[9], line 1\u001b[0m\n\u001b[0;32m----> 1\u001b[0m m\u001b[39m.\u001b[39;49mto_q\u001b[39m.\u001b[39mweight\u001b[39m.\u001b[39mshape\n",
      "File \u001b[0;32m~/miniconda3/envs/unet/lib/python3.10/site-packages/torch/nn/modules/module.py:1928\u001b[0m, in \u001b[0;36mModule.__getattr__\u001b[0;34m(self, name)\u001b[0m\n\u001b[1;32m   1926\u001b[0m     \u001b[39mif\u001b[39;00m name \u001b[39min\u001b[39;00m modules:\n\u001b[1;32m   1927\u001b[0m         \u001b[39mreturn\u001b[39;00m modules[name]\n\u001b[0;32m-> 1928\u001b[0m \u001b[39mraise\u001b[39;00m \u001b[39mAttributeError\u001b[39;00m(\n\u001b[1;32m   1929\u001b[0m     \u001b[39mf\u001b[39m\u001b[39m\"\u001b[39m\u001b[39m'\u001b[39m\u001b[39m{\u001b[39;00m\u001b[39mtype\u001b[39m(\u001b[39mself\u001b[39m)\u001b[39m.\u001b[39m\u001b[39m__name__\u001b[39m\u001b[39m}\u001b[39;00m\u001b[39m'\u001b[39m\u001b[39m object has no attribute \u001b[39m\u001b[39m'\u001b[39m\u001b[39m{\u001b[39;00mname\u001b[39m}\u001b[39;00m\u001b[39m'\u001b[39m\u001b[39m\"\u001b[39m\n\u001b[1;32m   1930\u001b[0m )\n",
      "\u001b[0;31mAttributeError\u001b[0m: 'Linear' object has no attribute 'to_q'"
     ]
    }
   ],
   "source": [
    "m.to_q.weight.shape"
   ]
  },
  {
   "cell_type": "code",
   "execution_count": null,
   "metadata": {},
   "outputs": [
    {
     "data": {
      "text/plain": [
       "torch.Size([11, 10])"
      ]
     },
     "execution_count": 10,
     "metadata": {},
     "output_type": "execute_result"
    }
   ],
   "source": [
    "m.weight.shape"
   ]
  },
  {
   "cell_type": "code",
   "execution_count": null,
   "metadata": {},
   "outputs": [],
   "source": [
    "x = torch.rand(11, 10)"
   ]
  },
  {
   "cell_type": "code",
   "execution_count": null,
   "metadata": {},
   "outputs": [
    {
     "data": {
      "text/plain": [
       "tensor([[-0.7630, -0.1707,  0.3466,  0.0242, -0.0976, -0.0070,  0.0183, -0.1808,\n",
       "          0.1524,  0.0366, -0.5014],\n",
       "        [-0.7951,  0.1422,  0.3333,  0.2267, -0.2692,  0.1445, -0.5855, -0.0402,\n",
       "         -0.2439,  0.3511, -0.6624],\n",
       "        [-0.7756, -0.1348,  0.5452,  0.1761, -0.3862,  0.3223, -0.5768,  0.1096,\n",
       "         -0.1008,  0.4687, -0.6416],\n",
       "        [-1.0734, -0.0368,  0.5852,  0.2071, -0.3868, -0.0030, -0.3022, -0.2095,\n",
       "         -0.0719,  0.2796, -0.6966],\n",
       "        [-0.4774, -0.0599,  0.0047,  0.0714, -0.0501,  0.1714, -0.5700, -0.2942,\n",
       "         -0.1874, -0.0432, -0.4136],\n",
       "        [-0.8939, -0.2083,  0.4728,  0.1093, -0.1449,  0.0928, -0.5344,  0.0034,\n",
       "         -0.0919,  0.3428, -0.5133],\n",
       "        [-1.0445, -0.1714,  0.6339,  0.5262, -0.4096,  0.0262, -0.1861,  0.1119,\n",
       "         -0.1492,  0.2443, -0.6779],\n",
       "        [-0.7613,  0.2788,  0.2472,  0.0650, -0.1931,  0.1634, -0.5555, -0.2222,\n",
       "         -0.2822,  0.2758, -0.6612],\n",
       "        [-1.0139, -0.1088,  0.5802,  0.0822, -0.3757,  0.2911, -0.4257, -0.0455,\n",
       "         -0.0023,  0.4693, -0.7165],\n",
       "        [-0.6570,  0.0192,  0.3268,  0.1090, -0.2247, -0.0080, -0.1353, -0.1537,\n",
       "          0.0612,  0.1586, -0.4807],\n",
       "        [-0.3859, -0.2926,  0.1587,  0.0184, -0.0822,  0.3645, -0.4269, -0.1582,\n",
       "          0.0335, -0.0020, -0.3139]], grad_fn=<MmBackward0>)"
      ]
     },
     "execution_count": 12,
     "metadata": {},
     "output_type": "execute_result"
    }
   ],
   "source": [
    "m(x)"
   ]
  },
  {
   "cell_type": "code",
   "execution_count": null,
   "metadata": {},
   "outputs": [
    {
     "data": {
      "text/plain": [
       "torch.Size([11, 11])"
      ]
     },
     "execution_count": 13,
     "metadata": {},
     "output_type": "execute_result"
    }
   ],
   "source": [
    "m(x).shape"
   ]
  },
  {
   "cell_type": "code",
   "execution_count": null,
   "metadata": {},
   "outputs": [],
   "source": [
    "x = torch.ones(11, 10)"
   ]
  },
  {
   "cell_type": "code",
   "execution_count": null,
   "metadata": {},
   "outputs": [
    {
     "data": {
      "text/plain": [
       "torch.Size([11, 10])"
      ]
     },
     "execution_count": 15,
     "metadata": {},
     "output_type": "execute_result"
    }
   ],
   "source": [
    "m.weight.shape"
   ]
  },
  {
   "cell_type": "code",
   "execution_count": null,
   "metadata": {},
   "outputs": [
    {
     "ename": "AttributeError",
     "evalue": "module 'torch' has no attribute 'one'",
     "output_type": "error",
     "traceback": [
      "\u001b[0;31m---------------------------------------------------------------------------\u001b[0m",
      "\u001b[0;31mAttributeError\u001b[0m                            Traceback (most recent call last)",
      "Cell \u001b[0;32mIn[16], line 1\u001b[0m\n\u001b[0;32m----> 1\u001b[0m m\u001b[39m.\u001b[39mweight \u001b[39m=\u001b[39m torch\u001b[39m.\u001b[39;49mone\n",
      "File \u001b[0;32m~/miniconda3/envs/unet/lib/python3.10/site-packages/torch/__init__.py:2681\u001b[0m, in \u001b[0;36m__getattr__\u001b[0;34m(name)\u001b[0m\n\u001b[1;32m   2678\u001b[0m \u001b[39mif\u001b[39;00m name \u001b[39min\u001b[39;00m _lazy_modules:\n\u001b[1;32m   2679\u001b[0m     \u001b[39mreturn\u001b[39;00m importlib\u001b[39m.\u001b[39mimport_module(\u001b[39mf\u001b[39m\u001b[39m\"\u001b[39m\u001b[39m.\u001b[39m\u001b[39m{\u001b[39;00mname\u001b[39m}\u001b[39;00m\u001b[39m\"\u001b[39m, \u001b[39m__name__\u001b[39m)\n\u001b[0;32m-> 2681\u001b[0m \u001b[39mraise\u001b[39;00m \u001b[39mAttributeError\u001b[39;00m(\u001b[39mf\u001b[39m\u001b[39m\"\u001b[39m\u001b[39mmodule \u001b[39m\u001b[39m'\u001b[39m\u001b[39m{\u001b[39;00m\u001b[39m__name__\u001b[39m\u001b[39m}\u001b[39;00m\u001b[39m'\u001b[39m\u001b[39m has no attribute \u001b[39m\u001b[39m'\u001b[39m\u001b[39m{\u001b[39;00mname\u001b[39m}\u001b[39;00m\u001b[39m'\u001b[39m\u001b[39m\"\u001b[39m)\n",
      "\u001b[0;31mAttributeError\u001b[0m: module 'torch' has no attribute 'one'"
     ]
    }
   ],
   "source": [
    "m.weight = torch.one"
   ]
  },
  {
   "cell_type": "code",
   "execution_count": null,
   "metadata": {},
   "outputs": [
    {
     "ename": "TypeError",
     "evalue": "cannot assign 'torch.FloatTensor' as parameter 'weight' (torch.nn.Parameter or None expected)",
     "output_type": "error",
     "traceback": [
      "\u001b[0;31m---------------------------------------------------------------------------\u001b[0m",
      "\u001b[0;31mTypeError\u001b[0m                                 Traceback (most recent call last)",
      "Cell \u001b[0;32mIn[17], line 1\u001b[0m\n\u001b[0;32m----> 1\u001b[0m m\u001b[39m.\u001b[39;49mweight \u001b[39m=\u001b[39m torch\u001b[39m.\u001b[39mones_like(m\u001b[39m.\u001b[39mweight)\n",
      "File \u001b[0;32m~/miniconda3/envs/unet/lib/python3.10/site-packages/torch/nn/modules/module.py:1956\u001b[0m, in \u001b[0;36mModule.__setattr__\u001b[0;34m(self, name, value)\u001b[0m\n\u001b[1;32m   1954\u001b[0m \u001b[39melif\u001b[39;00m params \u001b[39mis\u001b[39;00m \u001b[39mnot\u001b[39;00m \u001b[39mNone\u001b[39;00m \u001b[39mand\u001b[39;00m name \u001b[39min\u001b[39;00m params:\n\u001b[1;32m   1955\u001b[0m     \u001b[39mif\u001b[39;00m value \u001b[39mis\u001b[39;00m \u001b[39mnot\u001b[39;00m \u001b[39mNone\u001b[39;00m:\n\u001b[0;32m-> 1956\u001b[0m         \u001b[39mraise\u001b[39;00m \u001b[39mTypeError\u001b[39;00m(\n\u001b[1;32m   1957\u001b[0m             \u001b[39mf\u001b[39m\u001b[39m\"\u001b[39m\u001b[39mcannot assign \u001b[39m\u001b[39m'\u001b[39m\u001b[39m{\u001b[39;00mtorch\u001b[39m.\u001b[39mtypename(value)\u001b[39m}\u001b[39;00m\u001b[39m'\u001b[39m\u001b[39m as parameter \u001b[39m\u001b[39m'\u001b[39m\u001b[39m{\u001b[39;00mname\u001b[39m}\u001b[39;00m\u001b[39m'\u001b[39m\u001b[39m \u001b[39m\u001b[39m\"\u001b[39m\n\u001b[1;32m   1958\u001b[0m             \u001b[39m\"\u001b[39m\u001b[39m(torch.nn.Parameter or None expected)\u001b[39m\u001b[39m\"\u001b[39m\n\u001b[1;32m   1959\u001b[0m         )\n\u001b[1;32m   1960\u001b[0m     \u001b[39mself\u001b[39m\u001b[39m.\u001b[39mregister_parameter(name, value)\n\u001b[1;32m   1961\u001b[0m \u001b[39melse\u001b[39;00m:\n",
      "\u001b[0;31mTypeError\u001b[0m: cannot assign 'torch.FloatTensor' as parameter 'weight' (torch.nn.Parameter or None expected)"
     ]
    }
   ],
   "source": [
    "m.weight = torch.ones_like(m.weight)"
   ]
  },
  {
   "cell_type": "code",
   "execution_count": null,
   "metadata": {},
   "outputs": [
    {
     "ename": "AttributeError",
     "evalue": "module 'torch.nn' has no attribute 'Paratorch'",
     "output_type": "error",
     "traceback": [
      "\u001b[0;31m---------------------------------------------------------------------------\u001b[0m",
      "\u001b[0;31mAttributeError\u001b[0m                            Traceback (most recent call last)",
      "Cell \u001b[0;32mIn[18], line 1\u001b[0m\n\u001b[0;32m----> 1\u001b[0m m\u001b[39m.\u001b[39mweight \u001b[39m=\u001b[39m nn\u001b[39m.\u001b[39;49mParatorch\u001b[39m.\u001b[39mones_like(m\u001b[39m.\u001b[39mweight)\n",
      "\u001b[0;31mAttributeError\u001b[0m: module 'torch.nn' has no attribute 'Paratorch'"
     ]
    }
   ],
   "source": [
    "m.weight = nn.Paratorch.ones_like(m.weight)"
   ]
  },
  {
   "cell_type": "code",
   "execution_count": null,
   "metadata": {},
   "outputs": [],
   "source": [
    "m.weight = nn.Parameter(torch.ones_like(m.weight))"
   ]
  },
  {
   "cell_type": "code",
   "execution_count": null,
   "metadata": {},
   "outputs": [],
   "source": [
    "m.weight = nn.Parameter(torch.ones_like(m.weight)/10)"
   ]
  },
  {
   "cell_type": "code",
   "execution_count": null,
   "metadata": {},
   "outputs": [
    {
     "data": {
      "text/plain": [
       "torch.Size([11, 11])"
      ]
     },
     "execution_count": 21,
     "metadata": {},
     "output_type": "execute_result"
    }
   ],
   "source": [
    "m(x).shape"
   ]
  },
  {
   "cell_type": "code",
   "execution_count": null,
   "metadata": {},
   "outputs": [
    {
     "data": {
      "text/plain": [
       "tensor([[1., 1., 1., 1., 1., 1., 1., 1., 1., 1., 1.],\n",
       "        [1., 1., 1., 1., 1., 1., 1., 1., 1., 1., 1.],\n",
       "        [1., 1., 1., 1., 1., 1., 1., 1., 1., 1., 1.],\n",
       "        [1., 1., 1., 1., 1., 1., 1., 1., 1., 1., 1.],\n",
       "        [1., 1., 1., 1., 1., 1., 1., 1., 1., 1., 1.],\n",
       "        [1., 1., 1., 1., 1., 1., 1., 1., 1., 1., 1.],\n",
       "        [1., 1., 1., 1., 1., 1., 1., 1., 1., 1., 1.],\n",
       "        [1., 1., 1., 1., 1., 1., 1., 1., 1., 1., 1.],\n",
       "        [1., 1., 1., 1., 1., 1., 1., 1., 1., 1., 1.],\n",
       "        [1., 1., 1., 1., 1., 1., 1., 1., 1., 1., 1.],\n",
       "        [1., 1., 1., 1., 1., 1., 1., 1., 1., 1., 1.]], grad_fn=<MmBackward0>)"
      ]
     },
     "execution_count": 22,
     "metadata": {},
     "output_type": "execute_result"
    }
   ],
   "source": [
    "m(x)"
   ]
  },
  {
   "cell_type": "code",
   "execution_count": null,
   "metadata": {},
   "outputs": [],
   "source": [
    "import numpy as np"
   ]
  },
  {
   "cell_type": "code",
   "execution_count": null,
   "metadata": {},
   "outputs": [
    {
     "ename": "AttributeError",
     "evalue": "module 'numpy' has no attribute 'lins'",
     "output_type": "error",
     "traceback": [
      "\u001b[0;31m---------------------------------------------------------------------------\u001b[0m",
      "\u001b[0;31mAttributeError\u001b[0m                            Traceback (most recent call last)",
      "Cell \u001b[0;32mIn[24], line 1\u001b[0m\n\u001b[0;32m----> 1\u001b[0m np\u001b[39m.\u001b[39;49mlins\n",
      "File \u001b[0;32m~/miniconda3/envs/unet/lib/python3.10/site-packages/numpy/__init__.py:410\u001b[0m, in \u001b[0;36m__getattr__\u001b[0;34m(attr)\u001b[0m\n\u001b[1;32m    407\u001b[0m     \u001b[39mimport\u001b[39;00m\u001b[39m \u001b[39m\u001b[39mnumpy\u001b[39;00m\u001b[39m.\u001b[39;00m\u001b[39mchar\u001b[39;00m\u001b[39m \u001b[39m\u001b[39mas\u001b[39;00m\u001b[39m \u001b[39m\u001b[39mchar\u001b[39;00m\n\u001b[1;32m    408\u001b[0m     \u001b[39mreturn\u001b[39;00m char\u001b[39m.\u001b[39mchararray\n\u001b[0;32m--> 410\u001b[0m \u001b[39mraise\u001b[39;00m \u001b[39mAttributeError\u001b[39;00m(\u001b[39m\"\u001b[39m\u001b[39mmodule \u001b[39m\u001b[39m{!r}\u001b[39;00m\u001b[39m has no attribute \u001b[39m\u001b[39m\"\u001b[39m\n\u001b[1;32m    411\u001b[0m                      \u001b[39m\"\u001b[39m\u001b[39m{!r}\u001b[39;00m\u001b[39m\"\u001b[39m\u001b[39m.\u001b[39mformat(\u001b[39m__name__\u001b[39m, attr))\n",
      "\u001b[0;31mAttributeError\u001b[0m: module 'numpy' has no attribute 'lins'"
     ]
    }
   ],
   "source": [
    "np.lins"
   ]
  },
  {
   "cell_type": "code",
   "execution_count": null,
   "metadata": {},
   "outputs": [],
   "source": [
    "x = np.linspace(0, 64*10*11, 1)"
   ]
  },
  {
   "cell_type": "code",
   "execution_count": null,
   "metadata": {},
   "outputs": [
    {
     "data": {
      "text/plain": [
       "array([0.])"
      ]
     },
     "execution_count": 26,
     "metadata": {},
     "output_type": "execute_result"
    }
   ],
   "source": [
    "x"
   ]
  },
  {
   "cell_type": "code",
   "execution_count": null,
   "metadata": {},
   "outputs": [],
   "source": [
    "x = np.linspace(0, 1, 64*10*11, )"
   ]
  },
  {
   "cell_type": "code",
   "execution_count": null,
   "metadata": {},
   "outputs": [
    {
     "data": {
      "text/plain": [
       "array([0.00000000e+00, 1.42065634e-04, 2.84131269e-04, ...,\n",
       "       9.99715869e-01, 9.99857934e-01, 1.00000000e+00])"
      ]
     },
     "execution_count": 28,
     "metadata": {},
     "output_type": "execute_result"
    }
   ],
   "source": [
    "x"
   ]
  },
  {
   "cell_type": "code",
   "execution_count": null,
   "metadata": {},
   "outputs": [],
   "source": [
    "x = np.linspace(0, 64*10*11)"
   ]
  },
  {
   "cell_type": "code",
   "execution_count": null,
   "metadata": {},
   "outputs": [
    {
     "data": {
      "text/plain": [
       "array([   0.        ,  143.67346939,  287.34693878,  431.02040816,\n",
       "        574.69387755,  718.36734694,  862.04081633, 1005.71428571,\n",
       "       1149.3877551 , 1293.06122449, 1436.73469388, 1580.40816327,\n",
       "       1724.08163265, 1867.75510204, 2011.42857143, 2155.10204082,\n",
       "       2298.7755102 , 2442.44897959, 2586.12244898, 2729.79591837,\n",
       "       2873.46938776, 3017.14285714, 3160.81632653, 3304.48979592,\n",
       "       3448.16326531, 3591.83673469, 3735.51020408, 3879.18367347,\n",
       "       4022.85714286, 4166.53061224, 4310.20408163, 4453.87755102,\n",
       "       4597.55102041, 4741.2244898 , 4884.89795918, 5028.57142857,\n",
       "       5172.24489796, 5315.91836735, 5459.59183673, 5603.26530612,\n",
       "       5746.93877551, 5890.6122449 , 6034.28571429, 6177.95918367,\n",
       "       6321.63265306, 6465.30612245, 6608.97959184, 6752.65306122,\n",
       "       6896.32653061, 7040.        ])"
      ]
     },
     "execution_count": 30,
     "metadata": {},
     "output_type": "execute_result"
    }
   ],
   "source": [
    "x"
   ]
  },
  {
   "cell_type": "code",
   "execution_count": null,
   "metadata": {},
   "outputs": [
    {
     "data": {
      "text/plain": [
       "(50,)"
      ]
     },
     "execution_count": 31,
     "metadata": {},
     "output_type": "execute_result"
    }
   ],
   "source": [
    "x.shape"
   ]
  },
  {
   "cell_type": "code",
   "execution_count": null,
   "metadata": {},
   "outputs": [],
   "source": [
    "x = np.linspace(0, 64*10*11, 64*10*11, )"
   ]
  },
  {
   "cell_type": "code",
   "execution_count": null,
   "metadata": {},
   "outputs": [
    {
     "data": {
      "text/plain": [
       "(7040,)"
      ]
     },
     "execution_count": 33,
     "metadata": {},
     "output_type": "execute_result"
    }
   ],
   "source": [
    "x.shape"
   ]
  },
  {
   "cell_type": "code",
   "execution_count": null,
   "metadata": {},
   "outputs": [
    {
     "data": {
      "text/plain": [
       "7040"
      ]
     },
     "execution_count": 34,
     "metadata": {},
     "output_type": "execute_result"
    }
   ],
   "source": [
    "64*11*10"
   ]
  },
  {
   "cell_type": "code",
   "execution_count": null,
   "metadata": {},
   "outputs": [
    {
     "data": {
      "text/plain": [
       "array([0.00000000e+00, 1.00014207e+00, 2.00028413e+00, ...,\n",
       "       7.03799972e+03, 7.03899986e+03, 7.04000000e+03])"
      ]
     },
     "execution_count": 35,
     "metadata": {},
     "output_type": "execute_result"
    }
   ],
   "source": [
    "x"
   ]
  },
  {
   "cell_type": "code",
   "execution_count": null,
   "metadata": {},
   "outputs": [],
   "source": [
    "x = np.linspace(1, 64*10*11, 64*10*11, )"
   ]
  },
  {
   "cell_type": "code",
   "execution_count": null,
   "metadata": {},
   "outputs": [
    {
     "data": {
      "text/plain": [
       "array([1.000e+00, 2.000e+00, 3.000e+00, ..., 7.038e+03, 7.039e+03,\n",
       "       7.040e+03])"
      ]
     },
     "execution_count": 37,
     "metadata": {},
     "output_type": "execute_result"
    }
   ],
   "source": [
    "x"
   ]
  },
  {
   "cell_type": "code",
   "execution_count": null,
   "metadata": {},
   "outputs": [
    {
     "ename": "AttributeError",
     "evalue": "'numpy.ndarray' object has no attribute 've'",
     "output_type": "error",
     "traceback": [
      "\u001b[0;31m---------------------------------------------------------------------------\u001b[0m",
      "\u001b[0;31mAttributeError\u001b[0m                            Traceback (most recent call last)",
      "Cell \u001b[0;32mIn[38], line 1\u001b[0m\n\u001b[0;32m----> 1\u001b[0m x\u001b[39m.\u001b[39;49mve\n",
      "\u001b[0;31mAttributeError\u001b[0m: 'numpy.ndarray' object has no attribute 've'"
     ]
    }
   ],
   "source": [
    "x.ve"
   ]
  },
  {
   "cell_type": "code",
   "execution_count": null,
   "metadata": {},
   "outputs": [
    {
     "ename": "TypeError",
     "evalue": "view() takes from 0 to 2 positional arguments but 4 were given",
     "output_type": "error",
     "traceback": [
      "\u001b[0;31m---------------------------------------------------------------------------\u001b[0m",
      "\u001b[0;31mTypeError\u001b[0m                                 Traceback (most recent call last)",
      "Cell \u001b[0;32mIn[39], line 1\u001b[0m\n\u001b[0;32m----> 1\u001b[0m x \u001b[39m=\u001b[39m x\u001b[39m.\u001b[39;49mview(\u001b[39m1\u001b[39;49m, \u001b[39m64\u001b[39;49m, \u001b[39m10\u001b[39;49m, \u001b[39m10\u001b[39;49m)\n",
      "\u001b[0;31mTypeError\u001b[0m: view() takes from 0 to 2 positional arguments but 4 were given"
     ]
    }
   ],
   "source": [
    "x = x.view(1, 64, 10, 10)"
   ]
  },
  {
   "cell_type": "code",
   "execution_count": null,
   "metadata": {},
   "outputs": [
    {
     "ename": "TypeError",
     "evalue": "view() takes from 0 to 2 positional arguments but 4 were given",
     "output_type": "error",
     "traceback": [
      "\u001b[0;31m---------------------------------------------------------------------------\u001b[0m",
      "\u001b[0;31mTypeError\u001b[0m                                 Traceback (most recent call last)",
      "Cell \u001b[0;32mIn[40], line 1\u001b[0m\n\u001b[0;32m----> 1\u001b[0m x \u001b[39m=\u001b[39m x\u001b[39m.\u001b[39;49mview(\u001b[39m1\u001b[39;49m, \u001b[39m64\u001b[39;49m, \u001b[39m10\u001b[39;49m, \u001b[39m11\u001b[39;49m)\n",
      "\u001b[0;31mTypeError\u001b[0m: view() takes from 0 to 2 positional arguments but 4 were given"
     ]
    }
   ],
   "source": [
    "x = x.view(1, 64, 10, 11)"
   ]
  },
  {
   "cell_type": "code",
   "execution_count": null,
   "metadata": {},
   "outputs": [],
   "source": [
    "x = x.reshape(1, 64, 10, 11)"
   ]
  },
  {
   "cell_type": "code",
   "execution_count": null,
   "metadata": {},
   "outputs": [
    {
     "data": {
      "text/plain": [
       "array([[[[1.000e+00, 2.000e+00, 3.000e+00, ..., 9.000e+00, 1.000e+01,\n",
       "          1.100e+01],\n",
       "         [1.200e+01, 1.300e+01, 1.400e+01, ..., 2.000e+01, 2.100e+01,\n",
       "          2.200e+01],\n",
       "         [2.300e+01, 2.400e+01, 2.500e+01, ..., 3.100e+01, 3.200e+01,\n",
       "          3.300e+01],\n",
       "         ...,\n",
       "         [7.800e+01, 7.900e+01, 8.000e+01, ..., 8.600e+01, 8.700e+01,\n",
       "          8.800e+01],\n",
       "         [8.900e+01, 9.000e+01, 9.100e+01, ..., 9.700e+01, 9.800e+01,\n",
       "          9.900e+01],\n",
       "         [1.000e+02, 1.010e+02, 1.020e+02, ..., 1.080e+02, 1.090e+02,\n",
       "          1.100e+02]],\n",
       "\n",
       "        [[1.110e+02, 1.120e+02, 1.130e+02, ..., 1.190e+02, 1.200e+02,\n",
       "          1.210e+02],\n",
       "         [1.220e+02, 1.230e+02, 1.240e+02, ..., 1.300e+02, 1.310e+02,\n",
       "          1.320e+02],\n",
       "         [1.330e+02, 1.340e+02, 1.350e+02, ..., 1.410e+02, 1.420e+02,\n",
       "          1.430e+02],\n",
       "         ...,\n",
       "         [1.880e+02, 1.890e+02, 1.900e+02, ..., 1.960e+02, 1.970e+02,\n",
       "          1.980e+02],\n",
       "         [1.990e+02, 2.000e+02, 2.010e+02, ..., 2.070e+02, 2.080e+02,\n",
       "          2.090e+02],\n",
       "         [2.100e+02, 2.110e+02, 2.120e+02, ..., 2.180e+02, 2.190e+02,\n",
       "          2.200e+02]],\n",
       "\n",
       "        [[2.210e+02, 2.220e+02, 2.230e+02, ..., 2.290e+02, 2.300e+02,\n",
       "          2.310e+02],\n",
       "         [2.320e+02, 2.330e+02, 2.340e+02, ..., 2.400e+02, 2.410e+02,\n",
       "          2.420e+02],\n",
       "         [2.430e+02, 2.440e+02, 2.450e+02, ..., 2.510e+02, 2.520e+02,\n",
       "          2.530e+02],\n",
       "         ...,\n",
       "         [2.980e+02, 2.990e+02, 3.000e+02, ..., 3.060e+02, 3.070e+02,\n",
       "          3.080e+02],\n",
       "         [3.090e+02, 3.100e+02, 3.110e+02, ..., 3.170e+02, 3.180e+02,\n",
       "          3.190e+02],\n",
       "         [3.200e+02, 3.210e+02, 3.220e+02, ..., 3.280e+02, 3.290e+02,\n",
       "          3.300e+02]],\n",
       "\n",
       "        ...,\n",
       "\n",
       "        [[6.711e+03, 6.712e+03, 6.713e+03, ..., 6.719e+03, 6.720e+03,\n",
       "          6.721e+03],\n",
       "         [6.722e+03, 6.723e+03, 6.724e+03, ..., 6.730e+03, 6.731e+03,\n",
       "          6.732e+03],\n",
       "         [6.733e+03, 6.734e+03, 6.735e+03, ..., 6.741e+03, 6.742e+03,\n",
       "          6.743e+03],\n",
       "         ...,\n",
       "         [6.788e+03, 6.789e+03, 6.790e+03, ..., 6.796e+03, 6.797e+03,\n",
       "          6.798e+03],\n",
       "         [6.799e+03, 6.800e+03, 6.801e+03, ..., 6.807e+03, 6.808e+03,\n",
       "          6.809e+03],\n",
       "         [6.810e+03, 6.811e+03, 6.812e+03, ..., 6.818e+03, 6.819e+03,\n",
       "          6.820e+03]],\n",
       "\n",
       "        [[6.821e+03, 6.822e+03, 6.823e+03, ..., 6.829e+03, 6.830e+03,\n",
       "          6.831e+03],\n",
       "         [6.832e+03, 6.833e+03, 6.834e+03, ..., 6.840e+03, 6.841e+03,\n",
       "          6.842e+03],\n",
       "         [6.843e+03, 6.844e+03, 6.845e+03, ..., 6.851e+03, 6.852e+03,\n",
       "          6.853e+03],\n",
       "         ...,\n",
       "         [6.898e+03, 6.899e+03, 6.900e+03, ..., 6.906e+03, 6.907e+03,\n",
       "          6.908e+03],\n",
       "         [6.909e+03, 6.910e+03, 6.911e+03, ..., 6.917e+03, 6.918e+03,\n",
       "          6.919e+03],\n",
       "         [6.920e+03, 6.921e+03, 6.922e+03, ..., 6.928e+03, 6.929e+03,\n",
       "          6.930e+03]],\n",
       "\n",
       "        [[6.931e+03, 6.932e+03, 6.933e+03, ..., 6.939e+03, 6.940e+03,\n",
       "          6.941e+03],\n",
       "         [6.942e+03, 6.943e+03, 6.944e+03, ..., 6.950e+03, 6.951e+03,\n",
       "          6.952e+03],\n",
       "         [6.953e+03, 6.954e+03, 6.955e+03, ..., 6.961e+03, 6.962e+03,\n",
       "          6.963e+03],\n",
       "         ...,\n",
       "         [7.008e+03, 7.009e+03, 7.010e+03, ..., 7.016e+03, 7.017e+03,\n",
       "          7.018e+03],\n",
       "         [7.019e+03, 7.020e+03, 7.021e+03, ..., 7.027e+03, 7.028e+03,\n",
       "          7.029e+03],\n",
       "         [7.030e+03, 7.031e+03, 7.032e+03, ..., 7.038e+03, 7.039e+03,\n",
       "          7.040e+03]]]])"
      ]
     },
     "execution_count": 42,
     "metadata": {},
     "output_type": "execute_result"
    }
   ],
   "source": [
    "x"
   ]
  },
  {
   "cell_type": "code",
   "execution_count": null,
   "metadata": {},
   "outputs": [],
   "source": [
    "b1, n1, h, w = x.shape"
   ]
  },
  {
   "cell_type": "code",
   "execution_count": null,
   "metadata": {},
   "outputs": [
    {
     "ename": "TypeError",
     "evalue": "view() takes from 0 to 2 positional arguments but 3 were given",
     "output_type": "error",
     "traceback": [
      "\u001b[0;31m---------------------------------------------------------------------------\u001b[0m",
      "\u001b[0;31mTypeError\u001b[0m                                 Traceback (most recent call last)",
      "Cell \u001b[0;32mIn[44], line 1\u001b[0m\n\u001b[0;32m----> 1\u001b[0m x1 \u001b[39m=\u001b[39m x\u001b[39m.\u001b[39;49mview(b1, n1, h\u001b[39m*\u001b[39;49mw)\u001b[39m.\u001b[39mtranspose(\u001b[39m1\u001b[39m, \u001b[39m2\u001b[39m)\n",
      "\u001b[0;31mTypeError\u001b[0m: view() takes from 0 to 2 positional arguments but 3 were given"
     ]
    }
   ],
   "source": [
    "x1 = x.view(b1, n1, h*w).transpose(1, 2)"
   ]
  },
  {
   "cell_type": "code",
   "execution_count": null,
   "metadata": {},
   "outputs": [
    {
     "ename": "ValueError",
     "evalue": "axes don't match array",
     "output_type": "error",
     "traceback": [
      "\u001b[0;31m---------------------------------------------------------------------------\u001b[0m",
      "\u001b[0;31mValueError\u001b[0m                                Traceback (most recent call last)",
      "Cell \u001b[0;32mIn[45], line 1\u001b[0m\n\u001b[0;32m----> 1\u001b[0m x1 \u001b[39m=\u001b[39m x\u001b[39m.\u001b[39;49mreshape(b1, n1, h\u001b[39m*\u001b[39;49mw)\u001b[39m.\u001b[39;49mtranspose(\u001b[39m1\u001b[39;49m, \u001b[39m2\u001b[39;49m)\n",
      "\u001b[0;31mValueError\u001b[0m: axes don't match array"
     ]
    }
   ],
   "source": [
    "x1 = x.reshape(b1, n1, h*w).transpose(1, 2)"
   ]
  },
  {
   "cell_type": "code",
   "execution_count": null,
   "metadata": {},
   "outputs": [],
   "source": [
    "x1 = x.reshape(b1, n1, h*w).transpose(0, 2, 1)"
   ]
  },
  {
   "cell_type": "code",
   "execution_count": null,
   "metadata": {},
   "outputs": [
    {
     "data": {
      "text/plain": [
       "(1, 110, 64)"
      ]
     },
     "execution_count": 47,
     "metadata": {},
     "output_type": "execute_result"
    }
   ],
   "source": [
    "x1.shape"
   ]
  },
  {
   "cell_type": "code",
   "execution_count": null,
   "metadata": {},
   "outputs": [
    {
     "data": {
      "text/plain": [
       "array([[[[1.000e+00, 1.110e+02, 2.210e+02, ..., 5.510e+02, 6.610e+02,\n",
       "          7.710e+02],\n",
       "         [8.810e+02, 9.910e+02, 1.101e+03, ..., 1.431e+03, 1.541e+03,\n",
       "          1.651e+03],\n",
       "         [1.761e+03, 1.871e+03, 1.981e+03, ..., 2.311e+03, 2.421e+03,\n",
       "          2.531e+03],\n",
       "         ...,\n",
       "         [4.401e+03, 4.511e+03, 4.621e+03, ..., 4.951e+03, 5.061e+03,\n",
       "          5.171e+03],\n",
       "         [5.281e+03, 5.391e+03, 5.501e+03, ..., 5.831e+03, 5.941e+03,\n",
       "          6.051e+03],\n",
       "         [6.161e+03, 6.271e+03, 6.381e+03, ..., 6.711e+03, 6.821e+03,\n",
       "          6.931e+03]],\n",
       "\n",
       "        [[2.000e+00, 1.120e+02, 2.220e+02, ..., 5.520e+02, 6.620e+02,\n",
       "          7.720e+02],\n",
       "         [8.820e+02, 9.920e+02, 1.102e+03, ..., 1.432e+03, 1.542e+03,\n",
       "          1.652e+03],\n",
       "         [1.762e+03, 1.872e+03, 1.982e+03, ..., 2.312e+03, 2.422e+03,\n",
       "          2.532e+03],\n",
       "         ...,\n",
       "         [4.402e+03, 4.512e+03, 4.622e+03, ..., 4.952e+03, 5.062e+03,\n",
       "          5.172e+03],\n",
       "         [5.282e+03, 5.392e+03, 5.502e+03, ..., 5.832e+03, 5.942e+03,\n",
       "          6.052e+03],\n",
       "         [6.162e+03, 6.272e+03, 6.382e+03, ..., 6.712e+03, 6.822e+03,\n",
       "          6.932e+03]],\n",
       "\n",
       "        [[3.000e+00, 1.130e+02, 2.230e+02, ..., 5.530e+02, 6.630e+02,\n",
       "          7.730e+02],\n",
       "         [8.830e+02, 9.930e+02, 1.103e+03, ..., 1.433e+03, 1.543e+03,\n",
       "          1.653e+03],\n",
       "         [1.763e+03, 1.873e+03, 1.983e+03, ..., 2.313e+03, 2.423e+03,\n",
       "          2.533e+03],\n",
       "         ...,\n",
       "         [4.403e+03, 4.513e+03, 4.623e+03, ..., 4.953e+03, 5.063e+03,\n",
       "          5.173e+03],\n",
       "         [5.283e+03, 5.393e+03, 5.503e+03, ..., 5.833e+03, 5.943e+03,\n",
       "          6.053e+03],\n",
       "         [6.163e+03, 6.273e+03, 6.383e+03, ..., 6.713e+03, 6.823e+03,\n",
       "          6.933e+03]],\n",
       "\n",
       "        ...,\n",
       "\n",
       "        [[1.080e+02, 2.180e+02, 3.280e+02, ..., 6.580e+02, 7.680e+02,\n",
       "          8.780e+02],\n",
       "         [9.880e+02, 1.098e+03, 1.208e+03, ..., 1.538e+03, 1.648e+03,\n",
       "          1.758e+03],\n",
       "         [1.868e+03, 1.978e+03, 2.088e+03, ..., 2.418e+03, 2.528e+03,\n",
       "          2.638e+03],\n",
       "         ...,\n",
       "         [4.508e+03, 4.618e+03, 4.728e+03, ..., 5.058e+03, 5.168e+03,\n",
       "          5.278e+03],\n",
       "         [5.388e+03, 5.498e+03, 5.608e+03, ..., 5.938e+03, 6.048e+03,\n",
       "          6.158e+03],\n",
       "         [6.268e+03, 6.378e+03, 6.488e+03, ..., 6.818e+03, 6.928e+03,\n",
       "          7.038e+03]],\n",
       "\n",
       "        [[1.090e+02, 2.190e+02, 3.290e+02, ..., 6.590e+02, 7.690e+02,\n",
       "          8.790e+02],\n",
       "         [9.890e+02, 1.099e+03, 1.209e+03, ..., 1.539e+03, 1.649e+03,\n",
       "          1.759e+03],\n",
       "         [1.869e+03, 1.979e+03, 2.089e+03, ..., 2.419e+03, 2.529e+03,\n",
       "          2.639e+03],\n",
       "         ...,\n",
       "         [4.509e+03, 4.619e+03, 4.729e+03, ..., 5.059e+03, 5.169e+03,\n",
       "          5.279e+03],\n",
       "         [5.389e+03, 5.499e+03, 5.609e+03, ..., 5.939e+03, 6.049e+03,\n",
       "          6.159e+03],\n",
       "         [6.269e+03, 6.379e+03, 6.489e+03, ..., 6.819e+03, 6.929e+03,\n",
       "          7.039e+03]],\n",
       "\n",
       "        [[1.100e+02, 2.200e+02, 3.300e+02, ..., 6.600e+02, 7.700e+02,\n",
       "          8.800e+02],\n",
       "         [9.900e+02, 1.100e+03, 1.210e+03, ..., 1.540e+03, 1.650e+03,\n",
       "          1.760e+03],\n",
       "         [1.870e+03, 1.980e+03, 2.090e+03, ..., 2.420e+03, 2.530e+03,\n",
       "          2.640e+03],\n",
       "         ...,\n",
       "         [4.510e+03, 4.620e+03, 4.730e+03, ..., 5.060e+03, 5.170e+03,\n",
       "          5.280e+03],\n",
       "         [5.390e+03, 5.500e+03, 5.610e+03, ..., 5.940e+03, 6.050e+03,\n",
       "          6.160e+03],\n",
       "         [6.270e+03, 6.380e+03, 6.490e+03, ..., 6.820e+03, 6.930e+03,\n",
       "          7.040e+03]]]])"
      ]
     },
     "execution_count": 48,
     "metadata": {},
     "output_type": "execute_result"
    }
   ],
   "source": [
    "x1.reshape(1, 110, 8, 8)"
   ]
  },
  {
   "cell_type": "code",
   "execution_count": null,
   "metadata": {},
   "outputs": [
    {
     "data": {
      "text/plain": [
       "(1, 110, 64)"
      ]
     },
     "execution_count": 49,
     "metadata": {},
     "output_type": "execute_result"
    }
   ],
   "source": [
    "x1.shape"
   ]
  },
  {
   "cell_type": "code",
   "execution_count": null,
   "metadata": {},
   "outputs": [],
   "source": [
    "x1 = x1.reshape(1, 110, 8, 8)"
   ]
  },
  {
   "cell_type": "code",
   "execution_count": null,
   "metadata": {},
   "outputs": [
    {
     "data": {
      "text/plain": [
       "(1, 110, 8, 8)"
      ]
     },
     "execution_count": 51,
     "metadata": {},
     "output_type": "execute_result"
    }
   ],
   "source": [
    "x1.shape"
   ]
  },
  {
   "cell_type": "code",
   "execution_count": null,
   "metadata": {},
   "outputs": [
    {
     "ename": "AttributeError",
     "evalue": "'numpy.ndarray' object has no attribute 'trans'",
     "output_type": "error",
     "traceback": [
      "\u001b[0;31m---------------------------------------------------------------------------\u001b[0m",
      "\u001b[0;31mAttributeError\u001b[0m                            Traceback (most recent call last)",
      "Cell \u001b[0;32mIn[52], line 1\u001b[0m\n\u001b[0;32m----> 1\u001b[0m x1\u001b[39m.\u001b[39;49mtrans\n",
      "\u001b[0;31mAttributeError\u001b[0m: 'numpy.ndarray' object has no attribute 'trans'"
     ]
    }
   ],
   "source": [
    "x1.trans"
   ]
  },
  {
   "cell_type": "code",
   "execution_count": null,
   "metadata": {},
   "outputs": [
    {
     "data": {
      "text/plain": [
       "array([[[[1.000e+00, 1.110e+02, 2.210e+02, ..., 5.510e+02, 6.610e+02,\n",
       "          7.710e+02],\n",
       "         [2.000e+00, 1.120e+02, 2.220e+02, ..., 5.520e+02, 6.620e+02,\n",
       "          7.720e+02],\n",
       "         [3.000e+00, 1.130e+02, 2.230e+02, ..., 5.530e+02, 6.630e+02,\n",
       "          7.730e+02],\n",
       "         ...,\n",
       "         [1.080e+02, 2.180e+02, 3.280e+02, ..., 6.580e+02, 7.680e+02,\n",
       "          8.780e+02],\n",
       "         [1.090e+02, 2.190e+02, 3.290e+02, ..., 6.590e+02, 7.690e+02,\n",
       "          8.790e+02],\n",
       "         [1.100e+02, 2.200e+02, 3.300e+02, ..., 6.600e+02, 7.700e+02,\n",
       "          8.800e+02]],\n",
       "\n",
       "        [[8.810e+02, 9.910e+02, 1.101e+03, ..., 1.431e+03, 1.541e+03,\n",
       "          1.651e+03],\n",
       "         [8.820e+02, 9.920e+02, 1.102e+03, ..., 1.432e+03, 1.542e+03,\n",
       "          1.652e+03],\n",
       "         [8.830e+02, 9.930e+02, 1.103e+03, ..., 1.433e+03, 1.543e+03,\n",
       "          1.653e+03],\n",
       "         ...,\n",
       "         [9.880e+02, 1.098e+03, 1.208e+03, ..., 1.538e+03, 1.648e+03,\n",
       "          1.758e+03],\n",
       "         [9.890e+02, 1.099e+03, 1.209e+03, ..., 1.539e+03, 1.649e+03,\n",
       "          1.759e+03],\n",
       "         [9.900e+02, 1.100e+03, 1.210e+03, ..., 1.540e+03, 1.650e+03,\n",
       "          1.760e+03]],\n",
       "\n",
       "        [[1.761e+03, 1.871e+03, 1.981e+03, ..., 2.311e+03, 2.421e+03,\n",
       "          2.531e+03],\n",
       "         [1.762e+03, 1.872e+03, 1.982e+03, ..., 2.312e+03, 2.422e+03,\n",
       "          2.532e+03],\n",
       "         [1.763e+03, 1.873e+03, 1.983e+03, ..., 2.313e+03, 2.423e+03,\n",
       "          2.533e+03],\n",
       "         ...,\n",
       "         [1.868e+03, 1.978e+03, 2.088e+03, ..., 2.418e+03, 2.528e+03,\n",
       "          2.638e+03],\n",
       "         [1.869e+03, 1.979e+03, 2.089e+03, ..., 2.419e+03, 2.529e+03,\n",
       "          2.639e+03],\n",
       "         [1.870e+03, 1.980e+03, 2.090e+03, ..., 2.420e+03, 2.530e+03,\n",
       "          2.640e+03]],\n",
       "\n",
       "        ...,\n",
       "\n",
       "        [[4.401e+03, 4.511e+03, 4.621e+03, ..., 4.951e+03, 5.061e+03,\n",
       "          5.171e+03],\n",
       "         [4.402e+03, 4.512e+03, 4.622e+03, ..., 4.952e+03, 5.062e+03,\n",
       "          5.172e+03],\n",
       "         [4.403e+03, 4.513e+03, 4.623e+03, ..., 4.953e+03, 5.063e+03,\n",
       "          5.173e+03],\n",
       "         ...,\n",
       "         [4.508e+03, 4.618e+03, 4.728e+03, ..., 5.058e+03, 5.168e+03,\n",
       "          5.278e+03],\n",
       "         [4.509e+03, 4.619e+03, 4.729e+03, ..., 5.059e+03, 5.169e+03,\n",
       "          5.279e+03],\n",
       "         [4.510e+03, 4.620e+03, 4.730e+03, ..., 5.060e+03, 5.170e+03,\n",
       "          5.280e+03]],\n",
       "\n",
       "        [[5.281e+03, 5.391e+03, 5.501e+03, ..., 5.831e+03, 5.941e+03,\n",
       "          6.051e+03],\n",
       "         [5.282e+03, 5.392e+03, 5.502e+03, ..., 5.832e+03, 5.942e+03,\n",
       "          6.052e+03],\n",
       "         [5.283e+03, 5.393e+03, 5.503e+03, ..., 5.833e+03, 5.943e+03,\n",
       "          6.053e+03],\n",
       "         ...,\n",
       "         [5.388e+03, 5.498e+03, 5.608e+03, ..., 5.938e+03, 6.048e+03,\n",
       "          6.158e+03],\n",
       "         [5.389e+03, 5.499e+03, 5.609e+03, ..., 5.939e+03, 6.049e+03,\n",
       "          6.159e+03],\n",
       "         [5.390e+03, 5.500e+03, 5.610e+03, ..., 5.940e+03, 6.050e+03,\n",
       "          6.160e+03]],\n",
       "\n",
       "        [[6.161e+03, 6.271e+03, 6.381e+03, ..., 6.711e+03, 6.821e+03,\n",
       "          6.931e+03],\n",
       "         [6.162e+03, 6.272e+03, 6.382e+03, ..., 6.712e+03, 6.822e+03,\n",
       "          6.932e+03],\n",
       "         [6.163e+03, 6.273e+03, 6.383e+03, ..., 6.713e+03, 6.823e+03,\n",
       "          6.933e+03],\n",
       "         ...,\n",
       "         [6.268e+03, 6.378e+03, 6.488e+03, ..., 6.818e+03, 6.928e+03,\n",
       "          7.038e+03],\n",
       "         [6.269e+03, 6.379e+03, 6.489e+03, ..., 6.819e+03, 6.929e+03,\n",
       "          7.039e+03],\n",
       "         [6.270e+03, 6.380e+03, 6.490e+03, ..., 6.820e+03, 6.930e+03,\n",
       "          7.040e+03]]]])"
      ]
     },
     "execution_count": 53,
     "metadata": {},
     "output_type": "execute_result"
    }
   ],
   "source": [
    "x1.transpose(0, 2, 1, 3)"
   ]
  },
  {
   "cell_type": "code",
   "execution_count": null,
   "metadata": {},
   "outputs": [
    {
     "data": {
      "text/plain": [
       "(1, 110, 8, 8)"
      ]
     },
     "execution_count": 54,
     "metadata": {},
     "output_type": "execute_result"
    }
   ],
   "source": [
    "x1.shape"
   ]
  },
  {
   "cell_type": "code",
   "execution_count": null,
   "metadata": {},
   "outputs": [],
   "source": [
    "x1 = x1.transpose(0, 2, 1, 3)"
   ]
  },
  {
   "cell_type": "code",
   "execution_count": null,
   "metadata": {},
   "outputs": [
    {
     "data": {
      "text/plain": [
       "(1, 8, 110, 8)"
      ]
     },
     "execution_count": 56,
     "metadata": {},
     "output_type": "execute_result"
    }
   ],
   "source": [
    "x1.shape"
   ]
  },
  {
   "cell_type": "code",
   "execution_count": null,
   "metadata": {},
   "outputs": [],
   "source": [
    "x1 = x1.transpose(0, 2, 1, 3)"
   ]
  },
  {
   "cell_type": "code",
   "execution_count": null,
   "metadata": {},
   "outputs": [],
   "source": [
    "x1 = x1.reshape(1, 110, 64)"
   ]
  },
  {
   "cell_type": "code",
   "execution_count": null,
   "metadata": {},
   "outputs": [
    {
     "data": {
      "text/plain": [
       "(1, 110, 64)"
      ]
     },
     "execution_count": 59,
     "metadata": {},
     "output_type": "execute_result"
    }
   ],
   "source": [
    "x1.shape"
   ]
  },
  {
   "cell_type": "code",
   "execution_count": null,
   "metadata": {},
   "outputs": [
    {
     "data": {
      "text/plain": [
       "array([[[1.000e+00, 2.000e+00, 3.000e+00, ..., 1.080e+02, 1.090e+02,\n",
       "         1.100e+02],\n",
       "        [1.110e+02, 1.120e+02, 1.130e+02, ..., 2.180e+02, 2.190e+02,\n",
       "         2.200e+02],\n",
       "        [2.210e+02, 2.220e+02, 2.230e+02, ..., 3.280e+02, 3.290e+02,\n",
       "         3.300e+02],\n",
       "        ...,\n",
       "        [6.711e+03, 6.712e+03, 6.713e+03, ..., 6.818e+03, 6.819e+03,\n",
       "         6.820e+03],\n",
       "        [6.821e+03, 6.822e+03, 6.823e+03, ..., 6.928e+03, 6.929e+03,\n",
       "         6.930e+03],\n",
       "        [6.931e+03, 6.932e+03, 6.933e+03, ..., 7.038e+03, 7.039e+03,\n",
       "         7.040e+03]]])"
      ]
     },
     "execution_count": 60,
     "metadata": {},
     "output_type": "execute_result"
    }
   ],
   "source": [
    "x1.transpose(0, 2, 1)"
   ]
  },
  {
   "cell_type": "code",
   "execution_count": null,
   "metadata": {},
   "outputs": [],
   "source": [
    "x1 = x1.transpose(0, 2, 1)"
   ]
  },
  {
   "cell_type": "code",
   "execution_count": null,
   "metadata": {},
   "outputs": [
    {
     "data": {
      "text/plain": [
       "(1, 64, 10, 11)"
      ]
     },
     "execution_count": 62,
     "metadata": {},
     "output_type": "execute_result"
    }
   ],
   "source": [
    "x.shape"
   ]
  },
  {
   "cell_type": "code",
   "execution_count": null,
   "metadata": {},
   "outputs": [
    {
     "ename": "AttributeError",
     "evalue": "'numpy.ndarray' object has no attribute 'rehsape'",
     "output_type": "error",
     "traceback": [
      "\u001b[0;31m---------------------------------------------------------------------------\u001b[0m",
      "\u001b[0;31mAttributeError\u001b[0m                            Traceback (most recent call last)",
      "Cell \u001b[0;32mIn[63], line 1\u001b[0m\n\u001b[0;32m----> 1\u001b[0m x1\u001b[39m.\u001b[39;49mrehsape(\u001b[39m1\u001b[39m, \u001b[39m64\u001b[39m, \u001b[39m10\u001b[39m, \u001b[39m11\u001b[39m)\n",
      "\u001b[0;31mAttributeError\u001b[0m: 'numpy.ndarray' object has no attribute 'rehsape'"
     ]
    }
   ],
   "source": [
    "x1.rehsape(1, 64, 10, 11)"
   ]
  },
  {
   "cell_type": "code",
   "execution_count": null,
   "metadata": {},
   "outputs": [
    {
     "data": {
      "text/plain": [
       "(1, 64, 110)"
      ]
     },
     "execution_count": 64,
     "metadata": {},
     "output_type": "execute_result"
    }
   ],
   "source": [
    "x1.shape"
   ]
  },
  {
   "cell_type": "code",
   "execution_count": null,
   "metadata": {},
   "outputs": [
    {
     "data": {
      "text/plain": [
       "array([[[[1.000e+00, 2.000e+00, 3.000e+00, ..., 9.000e+00, 1.000e+01,\n",
       "          1.100e+01],\n",
       "         [1.200e+01, 1.300e+01, 1.400e+01, ..., 2.000e+01, 2.100e+01,\n",
       "          2.200e+01],\n",
       "         [2.300e+01, 2.400e+01, 2.500e+01, ..., 3.100e+01, 3.200e+01,\n",
       "          3.300e+01],\n",
       "         ...,\n",
       "         [7.800e+01, 7.900e+01, 8.000e+01, ..., 8.600e+01, 8.700e+01,\n",
       "          8.800e+01],\n",
       "         [8.900e+01, 9.000e+01, 9.100e+01, ..., 9.700e+01, 9.800e+01,\n",
       "          9.900e+01],\n",
       "         [1.000e+02, 1.010e+02, 1.020e+02, ..., 1.080e+02, 1.090e+02,\n",
       "          1.100e+02]],\n",
       "\n",
       "        [[1.110e+02, 1.120e+02, 1.130e+02, ..., 1.190e+02, 1.200e+02,\n",
       "          1.210e+02],\n",
       "         [1.220e+02, 1.230e+02, 1.240e+02, ..., 1.300e+02, 1.310e+02,\n",
       "          1.320e+02],\n",
       "         [1.330e+02, 1.340e+02, 1.350e+02, ..., 1.410e+02, 1.420e+02,\n",
       "          1.430e+02],\n",
       "         ...,\n",
       "         [1.880e+02, 1.890e+02, 1.900e+02, ..., 1.960e+02, 1.970e+02,\n",
       "          1.980e+02],\n",
       "         [1.990e+02, 2.000e+02, 2.010e+02, ..., 2.070e+02, 2.080e+02,\n",
       "          2.090e+02],\n",
       "         [2.100e+02, 2.110e+02, 2.120e+02, ..., 2.180e+02, 2.190e+02,\n",
       "          2.200e+02]],\n",
       "\n",
       "        [[2.210e+02, 2.220e+02, 2.230e+02, ..., 2.290e+02, 2.300e+02,\n",
       "          2.310e+02],\n",
       "         [2.320e+02, 2.330e+02, 2.340e+02, ..., 2.400e+02, 2.410e+02,\n",
       "          2.420e+02],\n",
       "         [2.430e+02, 2.440e+02, 2.450e+02, ..., 2.510e+02, 2.520e+02,\n",
       "          2.530e+02],\n",
       "         ...,\n",
       "         [2.980e+02, 2.990e+02, 3.000e+02, ..., 3.060e+02, 3.070e+02,\n",
       "          3.080e+02],\n",
       "         [3.090e+02, 3.100e+02, 3.110e+02, ..., 3.170e+02, 3.180e+02,\n",
       "          3.190e+02],\n",
       "         [3.200e+02, 3.210e+02, 3.220e+02, ..., 3.280e+02, 3.290e+02,\n",
       "          3.300e+02]],\n",
       "\n",
       "        ...,\n",
       "\n",
       "        [[6.711e+03, 6.712e+03, 6.713e+03, ..., 6.719e+03, 6.720e+03,\n",
       "          6.721e+03],\n",
       "         [6.722e+03, 6.723e+03, 6.724e+03, ..., 6.730e+03, 6.731e+03,\n",
       "          6.732e+03],\n",
       "         [6.733e+03, 6.734e+03, 6.735e+03, ..., 6.741e+03, 6.742e+03,\n",
       "          6.743e+03],\n",
       "         ...,\n",
       "         [6.788e+03, 6.789e+03, 6.790e+03, ..., 6.796e+03, 6.797e+03,\n",
       "          6.798e+03],\n",
       "         [6.799e+03, 6.800e+03, 6.801e+03, ..., 6.807e+03, 6.808e+03,\n",
       "          6.809e+03],\n",
       "         [6.810e+03, 6.811e+03, 6.812e+03, ..., 6.818e+03, 6.819e+03,\n",
       "          6.820e+03]],\n",
       "\n",
       "        [[6.821e+03, 6.822e+03, 6.823e+03, ..., 6.829e+03, 6.830e+03,\n",
       "          6.831e+03],\n",
       "         [6.832e+03, 6.833e+03, 6.834e+03, ..., 6.840e+03, 6.841e+03,\n",
       "          6.842e+03],\n",
       "         [6.843e+03, 6.844e+03, 6.845e+03, ..., 6.851e+03, 6.852e+03,\n",
       "          6.853e+03],\n",
       "         ...,\n",
       "         [6.898e+03, 6.899e+03, 6.900e+03, ..., 6.906e+03, 6.907e+03,\n",
       "          6.908e+03],\n",
       "         [6.909e+03, 6.910e+03, 6.911e+03, ..., 6.917e+03, 6.918e+03,\n",
       "          6.919e+03],\n",
       "         [6.920e+03, 6.921e+03, 6.922e+03, ..., 6.928e+03, 6.929e+03,\n",
       "          6.930e+03]],\n",
       "\n",
       "        [[6.931e+03, 6.932e+03, 6.933e+03, ..., 6.939e+03, 6.940e+03,\n",
       "          6.941e+03],\n",
       "         [6.942e+03, 6.943e+03, 6.944e+03, ..., 6.950e+03, 6.951e+03,\n",
       "          6.952e+03],\n",
       "         [6.953e+03, 6.954e+03, 6.955e+03, ..., 6.961e+03, 6.962e+03,\n",
       "          6.963e+03],\n",
       "         ...,\n",
       "         [7.008e+03, 7.009e+03, 7.010e+03, ..., 7.016e+03, 7.017e+03,\n",
       "          7.018e+03],\n",
       "         [7.019e+03, 7.020e+03, 7.021e+03, ..., 7.027e+03, 7.028e+03,\n",
       "          7.029e+03],\n",
       "         [7.030e+03, 7.031e+03, 7.032e+03, ..., 7.038e+03, 7.039e+03,\n",
       "          7.040e+03]]]])"
      ]
     },
     "execution_count": 65,
     "metadata": {},
     "output_type": "execute_result"
    }
   ],
   "source": [
    "x1.reshape(1, 64, 10, 11)"
   ]
  },
  {
   "cell_type": "code",
   "execution_count": null,
   "metadata": {},
   "outputs": [
    {
     "ename": "ValueError",
     "evalue": "operands could not be broadcast together with shapes (1,64,110) (1,64,10,11) ",
     "output_type": "error",
     "traceback": [
      "\u001b[0;31m---------------------------------------------------------------------------\u001b[0m",
      "\u001b[0;31mValueError\u001b[0m                                Traceback (most recent call last)",
      "Cell \u001b[0;32mIn[66], line 1\u001b[0m\n\u001b[0;32m----> 1\u001b[0m x1 \u001b[39m==\u001b[39;49m x\n",
      "\u001b[0;31mValueError\u001b[0m: operands could not be broadcast together with shapes (1,64,110) (1,64,10,11) "
     ]
    }
   ],
   "source": [
    "x1 == x"
   ]
  },
  {
   "cell_type": "code",
   "execution_count": null,
   "metadata": {},
   "outputs": [
    {
     "data": {
      "text/plain": [
       "(1, 64, 10, 11)"
      ]
     },
     "execution_count": 67,
     "metadata": {},
     "output_type": "execute_result"
    }
   ],
   "source": [
    "x.shape"
   ]
  },
  {
   "cell_type": "code",
   "execution_count": null,
   "metadata": {},
   "outputs": [
    {
     "data": {
      "text/plain": [
       "(1, 64, 110)"
      ]
     },
     "execution_count": 68,
     "metadata": {},
     "output_type": "execute_result"
    }
   ],
   "source": [
    "x1.shape"
   ]
  },
  {
   "cell_type": "code",
   "execution_count": null,
   "metadata": {},
   "outputs": [],
   "source": [
    "x1 = x1.reshape(1, 64, 10, 11)"
   ]
  },
  {
   "cell_type": "code",
   "execution_count": null,
   "metadata": {},
   "outputs": [
    {
     "data": {
      "text/plain": [
       "array([[[[ True,  True,  True, ...,  True,  True,  True],\n",
       "         [ True,  True,  True, ...,  True,  True,  True],\n",
       "         [ True,  True,  True, ...,  True,  True,  True],\n",
       "         ...,\n",
       "         [ True,  True,  True, ...,  True,  True,  True],\n",
       "         [ True,  True,  True, ...,  True,  True,  True],\n",
       "         [ True,  True,  True, ...,  True,  True,  True]],\n",
       "\n",
       "        [[ True,  True,  True, ...,  True,  True,  True],\n",
       "         [ True,  True,  True, ...,  True,  True,  True],\n",
       "         [ True,  True,  True, ...,  True,  True,  True],\n",
       "         ...,\n",
       "         [ True,  True,  True, ...,  True,  True,  True],\n",
       "         [ True,  True,  True, ...,  True,  True,  True],\n",
       "         [ True,  True,  True, ...,  True,  True,  True]],\n",
       "\n",
       "        [[ True,  True,  True, ...,  True,  True,  True],\n",
       "         [ True,  True,  True, ...,  True,  True,  True],\n",
       "         [ True,  True,  True, ...,  True,  True,  True],\n",
       "         ...,\n",
       "         [ True,  True,  True, ...,  True,  True,  True],\n",
       "         [ True,  True,  True, ...,  True,  True,  True],\n",
       "         [ True,  True,  True, ...,  True,  True,  True]],\n",
       "\n",
       "        ...,\n",
       "\n",
       "        [[ True,  True,  True, ...,  True,  True,  True],\n",
       "         [ True,  True,  True, ...,  True,  True,  True],\n",
       "         [ True,  True,  True, ...,  True,  True,  True],\n",
       "         ...,\n",
       "         [ True,  True,  True, ...,  True,  True,  True],\n",
       "         [ True,  True,  True, ...,  True,  True,  True],\n",
       "         [ True,  True,  True, ...,  True,  True,  True]],\n",
       "\n",
       "        [[ True,  True,  True, ...,  True,  True,  True],\n",
       "         [ True,  True,  True, ...,  True,  True,  True],\n",
       "         [ True,  True,  True, ...,  True,  True,  True],\n",
       "         ...,\n",
       "         [ True,  True,  True, ...,  True,  True,  True],\n",
       "         [ True,  True,  True, ...,  True,  True,  True],\n",
       "         [ True,  True,  True, ...,  True,  True,  True]],\n",
       "\n",
       "        [[ True,  True,  True, ...,  True,  True,  True],\n",
       "         [ True,  True,  True, ...,  True,  True,  True],\n",
       "         [ True,  True,  True, ...,  True,  True,  True],\n",
       "         ...,\n",
       "         [ True,  True,  True, ...,  True,  True,  True],\n",
       "         [ True,  True,  True, ...,  True,  True,  True],\n",
       "         [ True,  True,  True, ...,  True,  True,  True]]]])"
      ]
     },
     "execution_count": 70,
     "metadata": {},
     "output_type": "execute_result"
    }
   ],
   "source": [
    "x1 == x"
   ]
  }
 ],
 "metadata": {
  "language_info": {
   "codemirror_mode": {
    "name": "ipython",
    "version": 3
   },
   "file_extension": ".py",
   "mimetype": "text/x-python",
   "name": "python",
   "nbconvert_exporter": "python",
   "pygments_lexer": "ipython3",
   "version": 3
  }
 },
 "nbformat": 4,
 "nbformat_minor": 2
}
